{
 "cells": [
  {
   "cell_type": "code",
   "execution_count": 1,
   "id": "16840b52",
   "metadata": {},
   "outputs": [],
   "source": [
    "import numpy as np\n",
    "import pandas as pd"
   ]
  },
  {
   "cell_type": "code",
   "execution_count": 65,
   "id": "79494df9",
   "metadata": {},
   "outputs": [
    {
     "data": {
      "text/html": [
       "<div>\n",
       "<style scoped>\n",
       "    .dataframe tbody tr th:only-of-type {\n",
       "        vertical-align: middle;\n",
       "    }\n",
       "\n",
       "    .dataframe tbody tr th {\n",
       "        vertical-align: top;\n",
       "    }\n",
       "\n",
       "    .dataframe thead th {\n",
       "        text-align: right;\n",
       "    }\n",
       "</style>\n",
       "<table border=\"1\" class=\"dataframe\">\n",
       "  <thead>\n",
       "    <tr style=\"text-align: right;\">\n",
       "      <th></th>\n",
       "      <th>ID</th>\n",
       "      <th>Name</th>\n",
       "      <th>Country</th>\n",
       "    </tr>\n",
       "  </thead>\n",
       "  <tbody>\n",
       "    <tr>\n",
       "      <th>0</th>\n",
       "      <td>0</td>\n",
       "      <td>Finch</td>\n",
       "      <td>USA</td>\n",
       "    </tr>\n",
       "    <tr>\n",
       "      <th>1</th>\n",
       "      <td>1</td>\n",
       "      <td>Grant</td>\n",
       "      <td>USA</td>\n",
       "    </tr>\n",
       "    <tr>\n",
       "      <th>2</th>\n",
       "      <td>2</td>\n",
       "      <td>Neon</td>\n",
       "      <td>Germany</td>\n",
       "    </tr>\n",
       "    <tr>\n",
       "      <th>3</th>\n",
       "      <td>3</td>\n",
       "      <td>James</td>\n",
       "      <td>USA</td>\n",
       "    </tr>\n",
       "    <tr>\n",
       "      <th>4</th>\n",
       "      <td>4</td>\n",
       "      <td>Ash</td>\n",
       "      <td>France</td>\n",
       "    </tr>\n",
       "    <tr>\n",
       "      <th>5</th>\n",
       "      <td>5</td>\n",
       "      <td>Buddy</td>\n",
       "      <td>Australia</td>\n",
       "    </tr>\n",
       "    <tr>\n",
       "      <th>6</th>\n",
       "      <td>6</td>\n",
       "      <td>Violet</td>\n",
       "      <td>Germany</td>\n",
       "    </tr>\n",
       "    <tr>\n",
       "      <th>7</th>\n",
       "      <td>7</td>\n",
       "      <td>Niko</td>\n",
       "      <td>Italy</td>\n",
       "    </tr>\n",
       "    <tr>\n",
       "      <th>8</th>\n",
       "      <td>8</td>\n",
       "      <td>Ingo</td>\n",
       "      <td>Japan</td>\n",
       "    </tr>\n",
       "    <tr>\n",
       "      <th>9</th>\n",
       "      <td>9</td>\n",
       "      <td>Volo</td>\n",
       "      <td>Japan</td>\n",
       "    </tr>\n",
       "  </tbody>\n",
       "</table>\n",
       "</div>"
      ],
      "text/plain": [
       "  ID    Name    Country\n",
       "0  0   Finch        USA\n",
       "1  1   Grant        USA\n",
       "2  2    Neon    Germany\n",
       "3  3   James        USA\n",
       "4  4     Ash     France\n",
       "5  5   Buddy  Australia\n",
       "6  6  Violet    Germany\n",
       "7  7    Niko      Italy\n",
       "8  8    Ingo      Japan\n",
       "9  9    Volo      Japan"
      ]
     },
     "execution_count": 65,
     "metadata": {},
     "output_type": "execute_result"
    }
   ],
   "source": [
    "df_pup = pd.DataFrame( \n",
    "[[\"0\",\"Finch\", \"USA\"],[\"1\",\"Grant\", \"USA\"],[\"2\",\"Neon\", \"Germany\"],[\"3\",\"James\", \"USA\"],[\"4\",\"Ash\", \"France\"],\n",
    "[\"5\",\"Buddy\", \"Australia\"],[\"6\",\"Violet\", \"Germany\"],[\"7\",\"Niko\", \"Italy\"],\n",
    "[\"8\",\"Ingo\", \"Japan\"],[\"9\",\"Volo\", \"Japan\"]],\n",
    "columns = [\"ID\",\"Name\", \"Country\"])\n",
    "df_pup"
   ]
  },
  {
   "cell_type": "code",
   "execution_count": 74,
   "id": "cf99ba6f",
   "metadata": {},
   "outputs": [
    {
     "data": {
      "text/html": [
       "<div>\n",
       "<style scoped>\n",
       "    .dataframe tbody tr th:only-of-type {\n",
       "        vertical-align: middle;\n",
       "    }\n",
       "\n",
       "    .dataframe tbody tr th {\n",
       "        vertical-align: top;\n",
       "    }\n",
       "\n",
       "    .dataframe thead th {\n",
       "        text-align: right;\n",
       "    }\n",
       "</style>\n",
       "<table border=\"1\" class=\"dataframe\">\n",
       "  <thead>\n",
       "    <tr style=\"text-align: right;\">\n",
       "      <th></th>\n",
       "      <th>ID</th>\n",
       "      <th>Owner</th>\n",
       "      <th>Country</th>\n",
       "    </tr>\n",
       "  </thead>\n",
       "  <tbody>\n",
       "    <tr>\n",
       "      <th>0</th>\n",
       "      <td>0</td>\n",
       "      <td>Josh</td>\n",
       "      <td>USA</td>\n",
       "    </tr>\n",
       "    <tr>\n",
       "      <th>1</th>\n",
       "      <td>1</td>\n",
       "      <td>Mark</td>\n",
       "      <td>USA</td>\n",
       "    </tr>\n",
       "    <tr>\n",
       "      <th>2</th>\n",
       "      <td>2</td>\n",
       "      <td>Zeke</td>\n",
       "      <td>Germany</td>\n",
       "    </tr>\n",
       "    <tr>\n",
       "      <th>3</th>\n",
       "      <td>3</td>\n",
       "      <td>Jessie</td>\n",
       "      <td>USA</td>\n",
       "    </tr>\n",
       "    <tr>\n",
       "      <th>4</th>\n",
       "      <td>4</td>\n",
       "      <td>Brock</td>\n",
       "      <td>France</td>\n",
       "    </tr>\n",
       "    <tr>\n",
       "      <th>5</th>\n",
       "      <td>5</td>\n",
       "      <td>Skip</td>\n",
       "      <td>Australia</td>\n",
       "    </tr>\n",
       "    <tr>\n",
       "      <th>6</th>\n",
       "      <td>6</td>\n",
       "      <td>Gilbert</td>\n",
       "      <td>Germany</td>\n",
       "    </tr>\n",
       "    <tr>\n",
       "      <th>7</th>\n",
       "      <td>7</td>\n",
       "      <td>Luca</td>\n",
       "      <td>Italy</td>\n",
       "    </tr>\n",
       "    <tr>\n",
       "      <th>8</th>\n",
       "      <td>8</td>\n",
       "      <td>Emmett</td>\n",
       "      <td>Japan</td>\n",
       "    </tr>\n",
       "    <tr>\n",
       "      <th>9</th>\n",
       "      <td>9</td>\n",
       "      <td>Cynthia</td>\n",
       "      <td>Japan</td>\n",
       "    </tr>\n",
       "  </tbody>\n",
       "</table>\n",
       "</div>"
      ],
      "text/plain": [
       "  ID    Owner    Country\n",
       "0  0     Josh        USA\n",
       "1  1     Mark        USA\n",
       "2  2     Zeke    Germany\n",
       "3  3   Jessie        USA\n",
       "4  4    Brock     France\n",
       "5  5     Skip  Australia\n",
       "6  6  Gilbert    Germany\n",
       "7  7     Luca      Italy\n",
       "8  8   Emmett      Japan\n",
       "9  9  Cynthia      Japan"
      ]
     },
     "execution_count": 74,
     "metadata": {},
     "output_type": "execute_result"
    }
   ],
   "source": [
    "df_owner = pd.DataFrame( \n",
    "[[\"0\",\"Josh\", \"USA\"],[\"1\",\"Mark\", \"USA\"],[\"2\",\"Zeke\", \"Germany\"],[\"3\",\"Jessie\", \"USA\"],[\"4\",\"Brock\", \"France\"],\n",
    "[\"5\",\"Skip\", \"Australia\"],\n",
    "[\"6\",\"Gilbert\", \"Germany\"],[\"7\",\"Luca\", \"Italy\"],[\"8\",\"Emmett\", \"Japan\"],[\"9\",\"Cynthia\", \"Japan\"]],\n",
    "columns = [\"ID\",\"Owner\", \"Country\"])\n",
    "df_owner"
   ]
  },
  {
   "cell_type": "code",
   "execution_count": 80,
   "id": "4280c733",
   "metadata": {},
   "outputs": [],
   "source": [
    "df_pup.to_csv('pup.csv')\n",
    "df_owner.to_csv(\"owner.csv\")"
   ]
  },
  {
   "cell_type": "code",
   "execution_count": 68,
   "id": "8f4933bd",
   "metadata": {},
   "outputs": [
    {
     "data": {
      "text/plain": [
       "ID         10\n",
       "Name       10\n",
       "Country    10\n",
       "dtype: int64"
      ]
     },
     "execution_count": 68,
     "metadata": {},
     "output_type": "execute_result"
    }
   ],
   "source": [
    "df_pup.count()"
   ]
  },
  {
   "cell_type": "code",
   "execution_count": 69,
   "id": "ec589a09",
   "metadata": {},
   "outputs": [
    {
     "name": "stdout",
     "output_type": "stream",
     "text": [
      "<class 'pandas.core.frame.DataFrame'>\n",
      "RangeIndex: 10 entries, 0 to 9\n",
      "Data columns (total 3 columns):\n",
      " #   Column   Non-Null Count  Dtype \n",
      "---  ------   --------------  ----- \n",
      " 0   ID       10 non-null     object\n",
      " 1   Name     10 non-null     object\n",
      " 2   Country  10 non-null     object\n",
      "dtypes: object(3)\n",
      "memory usage: 368.0+ bytes\n"
     ]
    }
   ],
   "source": [
    "df_pup.info()"
   ]
  },
  {
   "cell_type": "code",
   "execution_count": 70,
   "id": "49809628",
   "metadata": {},
   "outputs": [
    {
     "name": "stdout",
     "output_type": "stream",
     "text": [
      "3\n"
     ]
    }
   ],
   "source": [
    "print(len(df_pup.columns))"
   ]
  },
  {
   "cell_type": "code",
   "execution_count": 73,
   "id": "3dc7004b",
   "metadata": {},
   "outputs": [
    {
     "data": {
      "text/plain": [
       "Country\n",
       "Australia    1\n",
       "France       1\n",
       "Germany      2\n",
       "Italy        1\n",
       "Japan        2\n",
       "USA          3\n",
       "dtype: int64"
      ]
     },
     "execution_count": 73,
     "metadata": {},
     "output_type": "execute_result"
    }
   ],
   "source": [
    "df_pup.groupby([\"Country\"]).size()"
   ]
  },
  {
   "cell_type": "code",
   "execution_count": 75,
   "id": "6c3d8127",
   "metadata": {},
   "outputs": [
    {
     "data": {
      "text/plain": [
       "ID         10\n",
       "Owner      10\n",
       "Country    10\n",
       "dtype: int64"
      ]
     },
     "execution_count": 75,
     "metadata": {},
     "output_type": "execute_result"
    }
   ],
   "source": [
    "df_owner.count()"
   ]
  },
  {
   "cell_type": "code",
   "execution_count": 76,
   "id": "7e2a2456",
   "metadata": {},
   "outputs": [
    {
     "name": "stdout",
     "output_type": "stream",
     "text": [
      "<class 'pandas.core.frame.DataFrame'>\n",
      "RangeIndex: 10 entries, 0 to 9\n",
      "Data columns (total 3 columns):\n",
      " #   Column   Non-Null Count  Dtype \n",
      "---  ------   --------------  ----- \n",
      " 0   ID       10 non-null     object\n",
      " 1   Owner    10 non-null     object\n",
      " 2   Country  10 non-null     object\n",
      "dtypes: object(3)\n",
      "memory usage: 368.0+ bytes\n"
     ]
    }
   ],
   "source": [
    "df_owner.info()"
   ]
  },
  {
   "cell_type": "code",
   "execution_count": 77,
   "id": "2e9ee8a5",
   "metadata": {},
   "outputs": [
    {
     "name": "stdout",
     "output_type": "stream",
     "text": [
      "3\n"
     ]
    }
   ],
   "source": [
    "print(len(df_owner.columns))"
   ]
  },
  {
   "cell_type": "code",
   "execution_count": 79,
   "id": "26d07732",
   "metadata": {},
   "outputs": [
    {
     "data": {
      "text/plain": [
       "Country\n",
       "Australia    1\n",
       "France       1\n",
       "Germany      2\n",
       "Italy        1\n",
       "Japan        2\n",
       "USA          3\n",
       "dtype: int64"
      ]
     },
     "execution_count": 79,
     "metadata": {},
     "output_type": "execute_result"
    }
   ],
   "source": [
    "df_owner.groupby([\"Country\"]).size()"
   ]
  },
  {
   "cell_type": "code",
   "execution_count": null,
   "id": "7384882c",
   "metadata": {},
   "outputs": [],
   "source": []
  }
 ],
 "metadata": {
  "kernelspec": {
   "display_name": "Python 3 (ipykernel)",
   "language": "python",
   "name": "python3"
  },
  "language_info": {
   "codemirror_mode": {
    "name": "ipython",
    "version": 3
   },
   "file_extension": ".py",
   "mimetype": "text/x-python",
   "name": "python",
   "nbconvert_exporter": "python",
   "pygments_lexer": "ipython3",
   "version": "3.9.7"
  }
 },
 "nbformat": 4,
 "nbformat_minor": 5
}
